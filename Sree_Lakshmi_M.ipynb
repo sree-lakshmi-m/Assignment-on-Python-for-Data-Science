{
  "nbformat": 4,
  "nbformat_minor": 0,
  "metadata": {
    "colab": {
      "provenance": []
    },
    "kernelspec": {
      "name": "python3",
      "display_name": "Python 3"
    },
    "language_info": {
      "name": "python"
    }
  },
  "cells": [
    {
      "cell_type": "markdown",
      "source": [
        "# **Assignment on Python for Data Science**"
      ],
      "metadata": {
        "id": "rGgf1kagQ0Jj"
      }
    },
    {
      "cell_type": "markdown",
      "source": [
        "# 1. Read the dataset to python environment."
      ],
      "metadata": {
        "id": "Tf272jPuRLkK"
      }
    },
    {
      "cell_type": "code",
      "execution_count": 33,
      "metadata": {
        "colab": {
          "base_uri": "https://localhost:8080/",
          "height": 680
        },
        "id": "vGrEz2KmNoUn",
        "outputId": "9f92e19a-6678-4269-ef8e-d5588850b4d3"
      },
      "outputs": [
        {
          "output_type": "display_data",
          "data": {
            "text/plain": [
              "<IPython.core.display.HTML object>"
            ],
            "text/html": [
              "\n",
              "     <input type=\"file\" id=\"files-d70fda77-0f63-4627-909d-07e1a7df0bb9\" name=\"files[]\" multiple disabled\n",
              "        style=\"border:none\" />\n",
              "     <output id=\"result-d70fda77-0f63-4627-909d-07e1a7df0bb9\">\n",
              "      Upload widget is only available when the cell has been executed in the\n",
              "      current browser session. Please rerun this cell to enable.\n",
              "      </output>\n",
              "      <script>// Copyright 2017 Google LLC\n",
              "//\n",
              "// Licensed under the Apache License, Version 2.0 (the \"License\");\n",
              "// you may not use this file except in compliance with the License.\n",
              "// You may obtain a copy of the License at\n",
              "//\n",
              "//      http://www.apache.org/licenses/LICENSE-2.0\n",
              "//\n",
              "// Unless required by applicable law or agreed to in writing, software\n",
              "// distributed under the License is distributed on an \"AS IS\" BASIS,\n",
              "// WITHOUT WARRANTIES OR CONDITIONS OF ANY KIND, either express or implied.\n",
              "// See the License for the specific language governing permissions and\n",
              "// limitations under the License.\n",
              "\n",
              "/**\n",
              " * @fileoverview Helpers for google.colab Python module.\n",
              " */\n",
              "(function(scope) {\n",
              "function span(text, styleAttributes = {}) {\n",
              "  const element = document.createElement('span');\n",
              "  element.textContent = text;\n",
              "  for (const key of Object.keys(styleAttributes)) {\n",
              "    element.style[key] = styleAttributes[key];\n",
              "  }\n",
              "  return element;\n",
              "}\n",
              "\n",
              "// Max number of bytes which will be uploaded at a time.\n",
              "const MAX_PAYLOAD_SIZE = 100 * 1024;\n",
              "\n",
              "function _uploadFiles(inputId, outputId) {\n",
              "  const steps = uploadFilesStep(inputId, outputId);\n",
              "  const outputElement = document.getElementById(outputId);\n",
              "  // Cache steps on the outputElement to make it available for the next call\n",
              "  // to uploadFilesContinue from Python.\n",
              "  outputElement.steps = steps;\n",
              "\n",
              "  return _uploadFilesContinue(outputId);\n",
              "}\n",
              "\n",
              "// This is roughly an async generator (not supported in the browser yet),\n",
              "// where there are multiple asynchronous steps and the Python side is going\n",
              "// to poll for completion of each step.\n",
              "// This uses a Promise to block the python side on completion of each step,\n",
              "// then passes the result of the previous step as the input to the next step.\n",
              "function _uploadFilesContinue(outputId) {\n",
              "  const outputElement = document.getElementById(outputId);\n",
              "  const steps = outputElement.steps;\n",
              "\n",
              "  const next = steps.next(outputElement.lastPromiseValue);\n",
              "  return Promise.resolve(next.value.promise).then((value) => {\n",
              "    // Cache the last promise value to make it available to the next\n",
              "    // step of the generator.\n",
              "    outputElement.lastPromiseValue = value;\n",
              "    return next.value.response;\n",
              "  });\n",
              "}\n",
              "\n",
              "/**\n",
              " * Generator function which is called between each async step of the upload\n",
              " * process.\n",
              " * @param {string} inputId Element ID of the input file picker element.\n",
              " * @param {string} outputId Element ID of the output display.\n",
              " * @return {!Iterable<!Object>} Iterable of next steps.\n",
              " */\n",
              "function* uploadFilesStep(inputId, outputId) {\n",
              "  const inputElement = document.getElementById(inputId);\n",
              "  inputElement.disabled = false;\n",
              "\n",
              "  const outputElement = document.getElementById(outputId);\n",
              "  outputElement.innerHTML = '';\n",
              "\n",
              "  const pickedPromise = new Promise((resolve) => {\n",
              "    inputElement.addEventListener('change', (e) => {\n",
              "      resolve(e.target.files);\n",
              "    });\n",
              "  });\n",
              "\n",
              "  const cancel = document.createElement('button');\n",
              "  inputElement.parentElement.appendChild(cancel);\n",
              "  cancel.textContent = 'Cancel upload';\n",
              "  const cancelPromise = new Promise((resolve) => {\n",
              "    cancel.onclick = () => {\n",
              "      resolve(null);\n",
              "    };\n",
              "  });\n",
              "\n",
              "  // Wait for the user to pick the files.\n",
              "  const files = yield {\n",
              "    promise: Promise.race([pickedPromise, cancelPromise]),\n",
              "    response: {\n",
              "      action: 'starting',\n",
              "    }\n",
              "  };\n",
              "\n",
              "  cancel.remove();\n",
              "\n",
              "  // Disable the input element since further picks are not allowed.\n",
              "  inputElement.disabled = true;\n",
              "\n",
              "  if (!files) {\n",
              "    return {\n",
              "      response: {\n",
              "        action: 'complete',\n",
              "      }\n",
              "    };\n",
              "  }\n",
              "\n",
              "  for (const file of files) {\n",
              "    const li = document.createElement('li');\n",
              "    li.append(span(file.name, {fontWeight: 'bold'}));\n",
              "    li.append(span(\n",
              "        `(${file.type || 'n/a'}) - ${file.size} bytes, ` +\n",
              "        `last modified: ${\n",
              "            file.lastModifiedDate ? file.lastModifiedDate.toLocaleDateString() :\n",
              "                                    'n/a'} - `));\n",
              "    const percent = span('0% done');\n",
              "    li.appendChild(percent);\n",
              "\n",
              "    outputElement.appendChild(li);\n",
              "\n",
              "    const fileDataPromise = new Promise((resolve) => {\n",
              "      const reader = new FileReader();\n",
              "      reader.onload = (e) => {\n",
              "        resolve(e.target.result);\n",
              "      };\n",
              "      reader.readAsArrayBuffer(file);\n",
              "    });\n",
              "    // Wait for the data to be ready.\n",
              "    let fileData = yield {\n",
              "      promise: fileDataPromise,\n",
              "      response: {\n",
              "        action: 'continue',\n",
              "      }\n",
              "    };\n",
              "\n",
              "    // Use a chunked sending to avoid message size limits. See b/62115660.\n",
              "    let position = 0;\n",
              "    do {\n",
              "      const length = Math.min(fileData.byteLength - position, MAX_PAYLOAD_SIZE);\n",
              "      const chunk = new Uint8Array(fileData, position, length);\n",
              "      position += length;\n",
              "\n",
              "      const base64 = btoa(String.fromCharCode.apply(null, chunk));\n",
              "      yield {\n",
              "        response: {\n",
              "          action: 'append',\n",
              "          file: file.name,\n",
              "          data: base64,\n",
              "        },\n",
              "      };\n",
              "\n",
              "      let percentDone = fileData.byteLength === 0 ?\n",
              "          100 :\n",
              "          Math.round((position / fileData.byteLength) * 100);\n",
              "      percent.textContent = `${percentDone}% done`;\n",
              "\n",
              "    } while (position < fileData.byteLength);\n",
              "  }\n",
              "\n",
              "  // All done.\n",
              "  yield {\n",
              "    response: {\n",
              "      action: 'complete',\n",
              "    }\n",
              "  };\n",
              "}\n",
              "\n",
              "scope.google = scope.google || {};\n",
              "scope.google.colab = scope.google.colab || {};\n",
              "scope.google.colab._files = {\n",
              "  _uploadFiles,\n",
              "  _uploadFilesContinue,\n",
              "};\n",
              "})(self);\n",
              "</script> "
            ]
          },
          "metadata": {}
        },
        {
          "output_type": "stream",
          "name": "stdout",
          "text": [
            "Saving iris.csv to iris (1).csv\n"
          ]
        },
        {
          "output_type": "execute_result",
          "data": {
            "text/plain": [
              "{'iris.csv': b'SL,SW,PL,PW,Classification\\r\\n5.1,3.5,1.4,0.2,Iris-setosa\\r\\n4.9,3,1.4,0.2,Iris-setosa\\r\\n4.7,3.2,1.3,0.2,Iris-setosa\\r\\n4.6,3.1,1.5,0.2,Iris-setosa\\r\\n5,3.6,1.4,0.2,Iris-setosa\\r\\n5.4,3.9,1.7,0.4,Iris-setosa\\r\\n4.6,3.4,1.4,0.3,Iris-setosa\\r\\n5,3.4,1.5,0.2,Iris-setosa\\r\\n4.4,2.9,1.4,0.2,Iris-setosa\\r\\n4.9,3.1,1.5,0.1,Iris-setosa\\r\\n5.4,3.7,1.5,0.2,Iris-setosa\\r\\n4.8,3.4,1.6,0.2,Iris-setosa\\r\\n4.8,3,1.4,0.1,Iris-setosa\\r\\n4.3,3,1.1,0.1,Iris-setosa\\r\\n5.8,4,1.2,0.2,Iris-setosa\\r\\n5.7,4.4,1.5,0.4,Iris-setosa\\r\\n5.4,3.9,1.3,0.4,Iris-setosa\\r\\n5.1,3.5,1.4,0.3,Iris-setosa\\r\\n5.7,3.8,1.7,0.3,Iris-setosa\\r\\n5.1,3.8,1.5,0.3,Iris-setosa\\r\\n5.4,3.4,1.7,0.2,Iris-setosa\\r\\n5.1,3.7,1.5,0.4,Iris-setosa\\r\\n4.6,3.6,1,0.2,Iris-setosa\\r\\n5.1,3.3,1.7,0.5,Iris-setosa\\r\\n4.8,3.4,1.9,0.2,Iris-setosa\\r\\n5,3,1.6,0.2,Iris-setosa\\r\\n5,3.4,1.6,0.4,Iris-setosa\\r\\n5.2,3.5,1.5,0.2,Iris-setosa\\r\\n5.2,3.4,1.4,0.2,Iris-setosa\\r\\n4.7,3.2,1.6,0.2,Iris-setosa\\r\\n4.8,3.1,1.6,0.2,Iris-setosa\\r\\n5.4,3.4,1.5,0.4,Iris-setosa\\r\\n5.2,4.1,1.5,0.1,Iris-setosa\\r\\n5.5,4.2,1.4,0.2,Iris-setosa\\r\\n4.9,3.1,1.5,0.1,Iris-setosa\\r\\n5,3.2,1.2,0.2,Iris-setosa\\r\\n5.5,3.5,1.3,0.2,Iris-setosa\\r\\n4.9,3.1,1.5,0.1,Iris-setosa\\r\\n4.4,3,1.3,0.2,Iris-setosa\\r\\n5.1,3.4,1.5,0.2,Iris-setosa\\r\\n5,3.5,1.3,0.3,Iris-setosa\\r\\n4.5,2.3,1.3,0.3,Iris-setosa\\r\\n4.4,3.2,1.3,0.2,Iris-setosa\\r\\n5,3.5,1.6,0.6,Iris-setosa\\r\\n5.1,3.8,1.9,0.4,Iris-setosa\\r\\n4.8,3,1.4,0.3,Iris-setosa\\r\\n5.1,3.8,1.6,0.2,Iris-setosa\\r\\n4.6,3.2,1.4,0.2,Iris-setosa\\r\\n5.3,3.7,1.5,0.2,Iris-setosa\\r\\n5,3.3,1.4,0.2,Iris-setosa\\r\\n7,3.2,4.7,1.4,Iris-versicolor\\r\\n6.4,3.2,4.5,1.5,Iris-versicolor\\r\\n6.9,3.1,4.9,1.5,Iris-versicolor\\r\\n5.5,2.3,4,1.3,Iris-versicolor\\r\\n6.5,2.8,4.6,1.5,Iris-versicolor\\r\\n5.7,2.8,4.5,1.3,Iris-versicolor\\r\\n6.3,3.3,4.7,1.6,Iris-versicolor\\r\\n4.9,2.4,3.3,1,Iris-versicolor\\r\\n6.6,2.9,4.6,1.3,Iris-versicolor\\r\\n5.2,2.7,3.9,1.4,Iris-versicolor\\r\\n5,2,3.5,1,Iris-versicolor\\r\\n5.9,3,4.2,1.5,Iris-versicolor\\r\\n6,2.2,4,1,Iris-versicolor\\r\\n6.1,2.9,4.7,1.4,Iris-versicolor\\r\\n5.6,2.9,3.6,1.3,Iris-versicolor\\r\\n6.7,3.1,4.4,1.4,Iris-versicolor\\r\\n5.6,3,4.5,1.5,Iris-versicolor\\r\\n5.8,2.7,4.1,1,Iris-versicolor\\r\\n6.2,2.2,4.5,1.5,Iris-versicolor\\r\\n5.6,2.5,3.9,1.1,Iris-versicolor\\r\\n5.9,3.2,4.8,1.8,Iris-versicolor\\r\\n6.1,2.8,4,1.3,Iris-versicolor\\r\\n6.3,2.5,4.9,1.5,Iris-versicolor\\r\\n6.1,2.8,4.7,1.2,Iris-versicolor\\r\\n6.4,2.9,4.3,1.3,Iris-versicolor\\r\\n6.6,3,4.4,1.4,Iris-versicolor\\r\\n6.8,2.8,4.8,1.4,Iris-versicolor\\r\\n6.7,3,5,1.7,Iris-versicolor\\r\\n6,2.9,4.5,1.5,Iris-versicolor\\r\\n5.7,2.6,3.5,1,Iris-versicolor\\r\\n5.5,2.4,3.8,1.1,Iris-versicolor\\r\\n5.5,2.4,3.7,1,Iris-versicolor\\r\\n5.8,2.7,3.9,1.2,Iris-versicolor\\r\\n6,2.7,5.1,1.6,Iris-versicolor\\r\\n5.4,3,4.5,1.5,Iris-versicolor\\r\\n6,3.4,4.5,1.6,Iris-versicolor\\r\\n6.7,3.1,4.7,1.5,Iris-versicolor\\r\\n6.3,2.3,4.4,1.3,Iris-versicolor\\r\\n5.6,3,4.1,1.3,Iris-versicolor\\r\\n5.5,2.5,4,1.3,Iris-versicolor\\r\\n5.5,2.6,4.4,1.2,Iris-versicolor\\r\\n6.1,3,4.6,1.4,Iris-versicolor\\r\\n5.8,2.6,4,1.2,Iris-versicolor\\r\\n5,2.3,3.3,1,Iris-versicolor\\r\\n5.6,2.7,4.2,1.3,Iris-versicolor\\r\\n5.7,3,4.2,1.2,Iris-versicolor\\r\\n5.7,2.9,4.2,1.3,Iris-versicolor\\r\\n6.2,2.9,4.3,1.3,Iris-versicolor\\r\\n5.1,2.5,3,1.1,Iris-versicolor\\r\\n5.7,2.8,4.1,1.3,Iris-versicolor\\r\\n6.3,3.3,6,2.5,Iris-virginica\\r\\n5.8,2.7,5.1,1.9,Iris-virginica\\r\\n7.1,3,5.9,2.1,Iris-virginica\\r\\n6.3,2.9,5.6,1.8,Iris-virginica\\r\\n6.5,3,5.8,2.2,Iris-virginica\\r\\n7.6,3,6.6,2.1,Iris-virginica\\r\\n4.9,2.5,4.5,1.7,Iris-virginica\\r\\n7.3,2.9,6.3,1.8,Iris-virginica\\r\\n6.7,2.5,5.8,1.8,Iris-virginica\\r\\n7.2,3.6,6.1,2.5,Iris-virginica\\r\\n6.5,3.2,5.1,2,Iris-virginica\\r\\n6.4,2.7,5.3,1.9,Iris-virginica\\r\\n6.8,3,5.5,2.1,Iris-virginica\\r\\n5.7,2.5,5,2,Iris-virginica\\r\\n5.8,2.8,5.1,2.4,Iris-virginica\\r\\n6.4,3.2,5.3,2.3,Iris-virginica\\r\\n6.5,3,5.5,1.8,Iris-virginica\\r\\n7.7,3.8,6.7,2.2,Iris-virginica\\r\\n7.7,2.6,6.9,2.3,Iris-virginica\\r\\n6,2.2,5,1.5,Iris-virginica\\r\\n6.9,3.2,5.7,2.3,Iris-virginica\\r\\n5.6,2.8,4.9,2,Iris-virginica\\r\\n7.7,2.8,6.7,2,Iris-virginica\\r\\n6.3,2.7,4.9,1.8,Iris-virginica\\r\\n6.7,3.3,5.7,2.1,Iris-virginica\\r\\n7.2,3.2,6,1.8,Iris-virginica\\r\\n6.2,2.8,4.8,1.8,Iris-virginica\\r\\n6.1,3,4.9,1.8,Iris-virginica\\r\\n6.4,2.8,5.6,2.1,Iris-virginica\\r\\n7.2,3,5.8,1.6,Iris-virginica\\r\\n7.4,2.8,6.1,1.9,Iris-virginica\\r\\n7.9,3.8,6.4,2,Iris-virginica\\r\\n6.4,2.8,5.6,2.2,Iris-virginica\\r\\n6.3,2.8,5.1,1.5,Iris-virginica\\r\\n6.1,2.6,5.6,1.4,Iris-virginica\\r\\n7.7,3,6.1,2.3,Iris-virginica\\r\\n6.3,3.4,5.6,2.4,Iris-virginica\\r\\n6.4,3.1,5.5,1.8,Iris-virginica\\r\\n6,3,4.8,1.8,Iris-virginica\\r\\n6.9,3.1,5.4,2.1,Iris-virginica\\r\\n6.7,3.1,5.6,2.4,Iris-virginica\\r\\n6.9,3.1,5.1,2.3,Iris-virginica\\r\\n5.8,2.7,5.1,1.9,Iris-virginica\\r\\n6.8,3.2,5.9,2.3,Iris-virginica\\r\\n6.7,3.3,5.7,2.5,Iris-virginica\\r\\n6.7,3,5.2,2.3,Iris-virginica\\r\\n6.3,2.5,5,1.9,Iris-virginica\\r\\n6.5,3,5.2,2,Iris-virginica\\r\\n6.2,3.4,5.4,2.3,Iris-virginica\\r\\n5.9,3,5.1,1.8,Iris-virginica\\r\\n'}"
            ]
          },
          "metadata": {},
          "execution_count": 33
        }
      ],
      "source": [
        "import numpy as np\n",
        "import pandas as pd\n",
        "import seaborn as sns\n",
        "import matplotlib.pyplot as plt\n",
        "#to import file \n",
        "from google.colab import files\n",
        "#to upload file into google colab\n",
        "files.upload()\n"
      ]
    },
    {
      "cell_type": "code",
      "source": [
        "# to read the uploaded file\n",
        "data=pd.read_csv('iris.csv')\n",
        "# we give  the value inside head value 200 because otherwise it will take only the first five values by default\n",
        "data.head(200)"
      ],
      "metadata": {
        "colab": {
          "base_uri": "https://localhost:8080/",
          "height": 424
        },
        "id": "SCZrHw3DSfnH",
        "outputId": "1aee2fee-e355-4cc9-c652-2ac7d3240bef"
      },
      "execution_count": 25,
      "outputs": [
        {
          "output_type": "execute_result",
          "data": {
            "text/plain": [
              "      SL   SW   PL   PW  Classification\n",
              "0    5.1  3.5  1.4  0.2     Iris-setosa\n",
              "1    4.9  3.0  1.4  0.2     Iris-setosa\n",
              "2    4.7  3.2  1.3  0.2     Iris-setosa\n",
              "3    4.6  3.1  1.5  0.2     Iris-setosa\n",
              "4    5.0  3.6  1.4  0.2     Iris-setosa\n",
              "..   ...  ...  ...  ...             ...\n",
              "145  6.7  3.0  5.2  2.3  Iris-virginica\n",
              "146  6.3  2.5  5.0  1.9  Iris-virginica\n",
              "147  6.5  3.0  5.2  2.0  Iris-virginica\n",
              "148  6.2  3.4  5.4  2.3  Iris-virginica\n",
              "149  5.9  3.0  5.1  1.8  Iris-virginica\n",
              "\n",
              "[150 rows x 5 columns]"
            ],
            "text/html": [
              "\n",
              "  <div id=\"df-0ef8768b-3e45-41d7-aaf7-7ce45b280214\">\n",
              "    <div class=\"colab-df-container\">\n",
              "      <div>\n",
              "<style scoped>\n",
              "    .dataframe tbody tr th:only-of-type {\n",
              "        vertical-align: middle;\n",
              "    }\n",
              "\n",
              "    .dataframe tbody tr th {\n",
              "        vertical-align: top;\n",
              "    }\n",
              "\n",
              "    .dataframe thead th {\n",
              "        text-align: right;\n",
              "    }\n",
              "</style>\n",
              "<table border=\"1\" class=\"dataframe\">\n",
              "  <thead>\n",
              "    <tr style=\"text-align: right;\">\n",
              "      <th></th>\n",
              "      <th>SL</th>\n",
              "      <th>SW</th>\n",
              "      <th>PL</th>\n",
              "      <th>PW</th>\n",
              "      <th>Classification</th>\n",
              "    </tr>\n",
              "  </thead>\n",
              "  <tbody>\n",
              "    <tr>\n",
              "      <th>0</th>\n",
              "      <td>5.1</td>\n",
              "      <td>3.5</td>\n",
              "      <td>1.4</td>\n",
              "      <td>0.2</td>\n",
              "      <td>Iris-setosa</td>\n",
              "    </tr>\n",
              "    <tr>\n",
              "      <th>1</th>\n",
              "      <td>4.9</td>\n",
              "      <td>3.0</td>\n",
              "      <td>1.4</td>\n",
              "      <td>0.2</td>\n",
              "      <td>Iris-setosa</td>\n",
              "    </tr>\n",
              "    <tr>\n",
              "      <th>2</th>\n",
              "      <td>4.7</td>\n",
              "      <td>3.2</td>\n",
              "      <td>1.3</td>\n",
              "      <td>0.2</td>\n",
              "      <td>Iris-setosa</td>\n",
              "    </tr>\n",
              "    <tr>\n",
              "      <th>3</th>\n",
              "      <td>4.6</td>\n",
              "      <td>3.1</td>\n",
              "      <td>1.5</td>\n",
              "      <td>0.2</td>\n",
              "      <td>Iris-setosa</td>\n",
              "    </tr>\n",
              "    <tr>\n",
              "      <th>4</th>\n",
              "      <td>5.0</td>\n",
              "      <td>3.6</td>\n",
              "      <td>1.4</td>\n",
              "      <td>0.2</td>\n",
              "      <td>Iris-setosa</td>\n",
              "    </tr>\n",
              "    <tr>\n",
              "      <th>...</th>\n",
              "      <td>...</td>\n",
              "      <td>...</td>\n",
              "      <td>...</td>\n",
              "      <td>...</td>\n",
              "      <td>...</td>\n",
              "    </tr>\n",
              "    <tr>\n",
              "      <th>145</th>\n",
              "      <td>6.7</td>\n",
              "      <td>3.0</td>\n",
              "      <td>5.2</td>\n",
              "      <td>2.3</td>\n",
              "      <td>Iris-virginica</td>\n",
              "    </tr>\n",
              "    <tr>\n",
              "      <th>146</th>\n",
              "      <td>6.3</td>\n",
              "      <td>2.5</td>\n",
              "      <td>5.0</td>\n",
              "      <td>1.9</td>\n",
              "      <td>Iris-virginica</td>\n",
              "    </tr>\n",
              "    <tr>\n",
              "      <th>147</th>\n",
              "      <td>6.5</td>\n",
              "      <td>3.0</td>\n",
              "      <td>5.2</td>\n",
              "      <td>2.0</td>\n",
              "      <td>Iris-virginica</td>\n",
              "    </tr>\n",
              "    <tr>\n",
              "      <th>148</th>\n",
              "      <td>6.2</td>\n",
              "      <td>3.4</td>\n",
              "      <td>5.4</td>\n",
              "      <td>2.3</td>\n",
              "      <td>Iris-virginica</td>\n",
              "    </tr>\n",
              "    <tr>\n",
              "      <th>149</th>\n",
              "      <td>5.9</td>\n",
              "      <td>3.0</td>\n",
              "      <td>5.1</td>\n",
              "      <td>1.8</td>\n",
              "      <td>Iris-virginica</td>\n",
              "    </tr>\n",
              "  </tbody>\n",
              "</table>\n",
              "<p>150 rows × 5 columns</p>\n",
              "</div>\n",
              "      <button class=\"colab-df-convert\" onclick=\"convertToInteractive('df-0ef8768b-3e45-41d7-aaf7-7ce45b280214')\"\n",
              "              title=\"Convert this dataframe to an interactive table.\"\n",
              "              style=\"display:none;\">\n",
              "        \n",
              "  <svg xmlns=\"http://www.w3.org/2000/svg\" height=\"24px\"viewBox=\"0 0 24 24\"\n",
              "       width=\"24px\">\n",
              "    <path d=\"M0 0h24v24H0V0z\" fill=\"none\"/>\n",
              "    <path d=\"M18.56 5.44l.94 2.06.94-2.06 2.06-.94-2.06-.94-.94-2.06-.94 2.06-2.06.94zm-11 1L8.5 8.5l.94-2.06 2.06-.94-2.06-.94L8.5 2.5l-.94 2.06-2.06.94zm10 10l.94 2.06.94-2.06 2.06-.94-2.06-.94-.94-2.06-.94 2.06-2.06.94z\"/><path d=\"M17.41 7.96l-1.37-1.37c-.4-.4-.92-.59-1.43-.59-.52 0-1.04.2-1.43.59L10.3 9.45l-7.72 7.72c-.78.78-.78 2.05 0 2.83L4 21.41c.39.39.9.59 1.41.59.51 0 1.02-.2 1.41-.59l7.78-7.78 2.81-2.81c.8-.78.8-2.07 0-2.86zM5.41 20L4 18.59l7.72-7.72 1.47 1.35L5.41 20z\"/>\n",
              "  </svg>\n",
              "      </button>\n",
              "      \n",
              "  <style>\n",
              "    .colab-df-container {\n",
              "      display:flex;\n",
              "      flex-wrap:wrap;\n",
              "      gap: 12px;\n",
              "    }\n",
              "\n",
              "    .colab-df-convert {\n",
              "      background-color: #E8F0FE;\n",
              "      border: none;\n",
              "      border-radius: 50%;\n",
              "      cursor: pointer;\n",
              "      display: none;\n",
              "      fill: #1967D2;\n",
              "      height: 32px;\n",
              "      padding: 0 0 0 0;\n",
              "      width: 32px;\n",
              "    }\n",
              "\n",
              "    .colab-df-convert:hover {\n",
              "      background-color: #E2EBFA;\n",
              "      box-shadow: 0px 1px 2px rgba(60, 64, 67, 0.3), 0px 1px 3px 1px rgba(60, 64, 67, 0.15);\n",
              "      fill: #174EA6;\n",
              "    }\n",
              "\n",
              "    [theme=dark] .colab-df-convert {\n",
              "      background-color: #3B4455;\n",
              "      fill: #D2E3FC;\n",
              "    }\n",
              "\n",
              "    [theme=dark] .colab-df-convert:hover {\n",
              "      background-color: #434B5C;\n",
              "      box-shadow: 0px 1px 3px 1px rgba(0, 0, 0, 0.15);\n",
              "      filter: drop-shadow(0px 1px 2px rgba(0, 0, 0, 0.3));\n",
              "      fill: #FFFFFF;\n",
              "    }\n",
              "  </style>\n",
              "\n",
              "      <script>\n",
              "        const buttonEl =\n",
              "          document.querySelector('#df-0ef8768b-3e45-41d7-aaf7-7ce45b280214 button.colab-df-convert');\n",
              "        buttonEl.style.display =\n",
              "          google.colab.kernel.accessAllowed ? 'block' : 'none';\n",
              "\n",
              "        async function convertToInteractive(key) {\n",
              "          const element = document.querySelector('#df-0ef8768b-3e45-41d7-aaf7-7ce45b280214');\n",
              "          const dataTable =\n",
              "            await google.colab.kernel.invokeFunction('convertToInteractive',\n",
              "                                                     [key], {});\n",
              "          if (!dataTable) return;\n",
              "\n",
              "          const docLinkHtml = 'Like what you see? Visit the ' +\n",
              "            '<a target=\"_blank\" href=https://colab.research.google.com/notebooks/data_table.ipynb>data table notebook</a>'\n",
              "            + ' to learn more about interactive tables.';\n",
              "          element.innerHTML = '';\n",
              "          dataTable['output_type'] = 'display_data';\n",
              "          await google.colab.output.renderOutput(dataTable, element);\n",
              "          const docLink = document.createElement('div');\n",
              "          docLink.innerHTML = docLinkHtml;\n",
              "          element.appendChild(docLink);\n",
              "        }\n",
              "      </script>\n",
              "    </div>\n",
              "  </div>\n",
              "  "
            ]
          },
          "metadata": {},
          "execution_count": 25
        }
      ]
    },
    {
      "cell_type": "markdown",
      "source": [
        "# 2. Display the columns in the dataset."
      ],
      "metadata": {
        "id": "TCzm3-_uJ71S"
      }
    },
    {
      "cell_type": "code",
      "source": [
        "# to read the file in pandas\n",
        "data=pd.read_csv('iris.csv')\n",
        "# to print the values of the column\n",
        "list(data.columns.values)"
      ],
      "metadata": {
        "colab": {
          "base_uri": "https://localhost:8080/"
        },
        "id": "tJxGoWlCJ_wK",
        "outputId": "2f8a55b3-3331-4e1e-8a3d-7f09f423e4c5"
      },
      "execution_count": 23,
      "outputs": [
        {
          "output_type": "execute_result",
          "data": {
            "text/plain": [
              "['SL', 'SW', 'PL', 'PW', 'Classification']"
            ]
          },
          "metadata": {},
          "execution_count": 23
        }
      ]
    },
    {
      "cell_type": "markdown",
      "source": [
        "# 3. Calculate the mean of each column of the dataset."
      ],
      "metadata": {
        "id": "4_iNr3brOWWM"
      }
    },
    {
      "cell_type": "code",
      "source": [
        "#we create a column list named cols\n",
        "cols=['SL','SW','PL','PW','Classification']\n",
        "# we use the following code to print the mean value of each column\n",
        "data[cols].mean()"
      ],
      "metadata": {
        "colab": {
          "base_uri": "https://localhost:8080/"
        },
        "id": "zlASyX4AOY01",
        "outputId": "563ea746-94ad-460b-9b21-01e97885b3b1"
      },
      "execution_count": 68,
      "outputs": [
        {
          "output_type": "stream",
          "name": "stderr",
          "text": [
            "/usr/local/lib/python3.7/dist-packages/ipykernel_launcher.py:3: FutureWarning: Dropping of nuisance columns in DataFrame reductions (with 'numeric_only=None') is deprecated; in a future version this will raise TypeError.  Select only valid columns before calling the reduction.\n",
            "  This is separate from the ipykernel package so we can avoid doing imports until\n"
          ]
        },
        {
          "output_type": "execute_result",
          "data": {
            "text/plain": [
              "SL    5.843333\n",
              "SW    3.054000\n",
              "PL    3.758667\n",
              "PW    1.198667\n",
              "dtype: float64"
            ]
          },
          "metadata": {},
          "execution_count": 68
        }
      ]
    },
    {
      "cell_type": "code",
      "source": [
        "#we can also use bars to represent mean of each column\n",
        "data.mean().plot(kind='bar')"
      ],
      "metadata": {
        "colab": {
          "base_uri": "https://localhost:8080/",
          "height": 343
        },
        "id": "D6MeFVQPjWvA",
        "outputId": "a57a313e-db42-454e-b1ce-8f26cd255953"
      },
      "execution_count": 69,
      "outputs": [
        {
          "output_type": "stream",
          "name": "stderr",
          "text": [
            "/usr/local/lib/python3.7/dist-packages/ipykernel_launcher.py:2: FutureWarning: Dropping of nuisance columns in DataFrame reductions (with 'numeric_only=None') is deprecated; in a future version this will raise TypeError.  Select only valid columns before calling the reduction.\n",
            "  \n"
          ]
        },
        {
          "output_type": "execute_result",
          "data": {
            "text/plain": [
              "<matplotlib.axes._subplots.AxesSubplot at 0x7efe3ec51fd0>"
            ]
          },
          "metadata": {},
          "execution_count": 69
        },
        {
          "output_type": "display_data",
          "data": {
            "text/plain": [
              "<Figure size 432x288 with 1 Axes>"
            ],
            "image/png": "[encoded data removed]"
          },
          "metadata": {
            "needs_background": "light"
          }
        }
      ]
    },
    {
      "cell_type": "markdown",
      "source": [
        "# 4. Check for the null values present in the dataset."
      ],
      "metadata": {
        "id": "i3k0vqi-jdbZ"
      }
    },
    {
      "cell_type": "code",
      "source": [
        "#to check null values present in a dataset\n",
        "data.isna()"
      ],
      "metadata": {
        "colab": {
          "base_uri": "https://localhost:8080/",
          "height": 424
        },
        "id": "RksxLWjXjiNg",
        "outputId": "570c7c65-59aa-43bc-e1a2-4cb3027e829b"
      },
      "execution_count": 70,
      "outputs": [
        {
          "output_type": "execute_result",
          "data": {
            "text/plain": [
              "        SL     SW     PL     PW  Classification\n",
              "0    False  False  False  False           False\n",
              "1    False  False  False  False           False\n",
              "2    False  False  False  False           False\n",
              "3    False  False  False  False           False\n",
              "4    False  False  False  False           False\n",
              "..     ...    ...    ...    ...             ...\n",
              "145  False  False  False  False           False\n",
              "146  False  False  False  False           False\n",
              "147  False  False  False  False           False\n",
              "148  False  False  False  False           False\n",
              "149  False  False  False  False           False\n",
              "\n",
              "[150 rows x 5 columns]"
            ],
            "text/html": [
              "\n",
              "  <div id=\"df-eab61029-0599-4e50-8403-2ff5681f3a7f\">\n",
              "    <div class=\"colab-df-container\">\n",
              "      <div>\n",
              "<style scoped>\n",
              "    .dataframe tbody tr th:only-of-type {\n",
              "        vertical-align: middle;\n",
              "    }\n",
              "\n",
              "    .dataframe tbody tr th {\n",
              "        vertical-align: top;\n",
              "    }\n",
              "\n",
              "    .dataframe thead th {\n",
              "        text-align: right;\n",
              "    }\n",
              "</style>\n",
              "<table border=\"1\" class=\"dataframe\">\n",
              "  <thead>\n",
              "    <tr style=\"text-align: right;\">\n",
              "      <th></th>\n",
              "      <th>SL</th>\n",
              "      <th>SW</th>\n",
              "      <th>PL</th>\n",
              "      <th>PW</th>\n",
              "      <th>Classification</th>\n",
              "    </tr>\n",
              "  </thead>\n",
              "  <tbody>\n",
              "    <tr>\n",
              "      <th>0</th>\n",
              "      <td>False</td>\n",
              "      <td>False</td>\n",
              "      <td>False</td>\n",
              "      <td>False</td>\n",
              "      <td>False</td>\n",
              "    </tr>\n",
              "    <tr>\n",
              "      <th>1</th>\n",
              "      <td>False</td>\n",
              "      <td>False</td>\n",
              "      <td>False</td>\n",
              "      <td>False</td>\n",
              "      <td>False</td>\n",
              "    </tr>\n",
              "    <tr>\n",
              "      <th>2</th>\n",
              "      <td>False</td>\n",
              "      <td>False</td>\n",
              "      <td>False</td>\n",
              "      <td>False</td>\n",
              "      <td>False</td>\n",
              "    </tr>\n",
              "    <tr>\n",
              "      <th>3</th>\n",
              "      <td>False</td>\n",
              "      <td>False</td>\n",
              "      <td>False</td>\n",
              "      <td>False</td>\n",
              "      <td>False</td>\n",
              "    </tr>\n",
              "    <tr>\n",
              "      <th>4</th>\n",
              "      <td>False</td>\n",
              "      <td>False</td>\n",
              "      <td>False</td>\n",
              "      <td>False</td>\n",
              "      <td>False</td>\n",
              "    </tr>\n",
              "    <tr>\n",
              "      <th>...</th>\n",
              "      <td>...</td>\n",
              "      <td>...</td>\n",
              "      <td>...</td>\n",
              "      <td>...</td>\n",
              "      <td>...</td>\n",
              "    </tr>\n",
              "    <tr>\n",
              "      <th>145</th>\n",
              "      <td>False</td>\n",
              "      <td>False</td>\n",
              "      <td>False</td>\n",
              "      <td>False</td>\n",
              "      <td>False</td>\n",
              "    </tr>\n",
              "    <tr>\n",
              "      <th>146</th>\n",
              "      <td>False</td>\n",
              "      <td>False</td>\n",
              "      <td>False</td>\n",
              "      <td>False</td>\n",
              "      <td>False</td>\n",
              "    </tr>\n",
              "    <tr>\n",
              "      <th>147</th>\n",
              "      <td>False</td>\n",
              "      <td>False</td>\n",
              "      <td>False</td>\n",
              "      <td>False</td>\n",
              "      <td>False</td>\n",
              "    </tr>\n",
              "    <tr>\n",
              "      <th>148</th>\n",
              "      <td>False</td>\n",
              "      <td>False</td>\n",
              "      <td>False</td>\n",
              "      <td>False</td>\n",
              "      <td>False</td>\n",
              "    </tr>\n",
              "    <tr>\n",
              "      <th>149</th>\n",
              "      <td>False</td>\n",
              "      <td>False</td>\n",
              "      <td>False</td>\n",
              "      <td>False</td>\n",
              "      <td>False</td>\n",
              "    </tr>\n",
              "  </tbody>\n",
              "</table>\n",
              "<p>150 rows × 5 columns</p>\n",
              "</div>\n",
              "      <button class=\"colab-df-convert\" onclick=\"convertToInteractive('df-eab61029-0599-4e50-8403-2ff5681f3a7f')\"\n",
              "              title=\"Convert this dataframe to an interactive table.\"\n",
              "              style=\"display:none;\">\n",
              "        \n",
              "  <svg xmlns=\"http://www.w3.org/2000/svg\" height=\"24px\"viewBox=\"0 0 24 24\"\n",
              "       width=\"24px\">\n",
              "    <path d=\"M0 0h24v24H0V0z\" fill=\"none\"/>\n",
              "    <path d=\"M18.56 5.44l.94 2.06.94-2.06 2.06-.94-2.06-.94-.94-2.06-.94 2.06-2.06.94zm-11 1L8.5 8.5l.94-2.06 2.06-.94-2.06-.94L8.5 2.5l-.94 2.06-2.06.94zm10 10l.94 2.06.94-2.06 2.06-.94-2.06-.94-.94-2.06-.94 2.06-2.06.94z\"/><path d=\"M17.41 7.96l-1.37-1.37c-.4-.4-.92-.59-1.43-.59-.52 0-1.04.2-1.43.59L10.3 9.45l-7.72 7.72c-.78.78-.78 2.05 0 2.83L4 21.41c.39.39.9.59 1.41.59.51 0 1.02-.2 1.41-.59l7.78-7.78 2.81-2.81c.8-.78.8-2.07 0-2.86zM5.41 20L4 18.59l7.72-7.72 1.47 1.35L5.41 20z\"/>\n",
              "  </svg>\n",
              "      </button>\n",
              "      \n",
              "  <style>\n",
              "    .colab-df-container {\n",
              "      display:flex;\n",
              "      flex-wrap:wrap;\n",
              "      gap: 12px;\n",
              "    }\n",
              "\n",
              "    .colab-df-convert {\n",
              "      background-color: #E8F0FE;\n",
              "      border: none;\n",
              "      border-radius: 50%;\n",
              "      cursor: pointer;\n",
              "      display: none;\n",
              "      fill: #1967D2;\n",
              "      height: 32px;\n",
              "      padding: 0 0 0 0;\n",
              "      width: 32px;\n",
              "    }\n",
              "\n",
              "    .colab-df-convert:hover {\n",
              "      background-color: #E2EBFA;\n",
              "      box-shadow: 0px 1px 2px rgba(60, 64, 67, 0.3), 0px 1px 3px 1px rgba(60, 64, 67, 0.15);\n",
              "      fill: #174EA6;\n",
              "    }\n",
              "\n",
              "    [theme=dark] .colab-df-convert {\n",
              "      background-color: #3B4455;\n",
              "      fill: #D2E3FC;\n",
              "    }\n",
              "\n",
              "    [theme=dark] .colab-df-convert:hover {\n",
              "      background-color: #434B5C;\n",
              "      box-shadow: 0px 1px 3px 1px rgba(0, 0, 0, 0.15);\n",
              "      filter: drop-shadow(0px 1px 2px rgba(0, 0, 0, 0.3));\n",
              "      fill: #FFFFFF;\n",
              "    }\n",
              "  </style>\n",
              "\n",
              "      <script>\n",
              "        const buttonEl =\n",
              "          document.querySelector('#df-eab61029-0599-4e50-8403-2ff5681f3a7f button.colab-df-convert');\n",
              "        buttonEl.style.display =\n",
              "          google.colab.kernel.accessAllowed ? 'block' : 'none';\n",
              "\n",
              "        async function convertToInteractive(key) {\n",
              "          const element = document.querySelector('#df-eab61029-0599-4e50-8403-2ff5681f3a7f');\n",
              "          const dataTable =\n",
              "            await google.colab.kernel.invokeFunction('convertToInteractive',\n",
              "                                                     [key], {});\n",
              "          if (!dataTable) return;\n",
              "\n",
              "          const docLinkHtml = 'Like what you see? Visit the ' +\n",
              "            '<a target=\"_blank\" href=https://colab.research.google.com/notebooks/data_table.ipynb>data table notebook</a>'\n",
              "            + ' to learn more about interactive tables.';\n",
              "          element.innerHTML = '';\n",
              "          dataTable['output_type'] = 'display_data';\n",
              "          await google.colab.output.renderOutput(dataTable, element);\n",
              "          const docLink = document.createElement('div');\n",
              "          docLink.innerHTML = docLinkHtml;\n",
              "          element.appendChild(docLink);\n",
              "        }\n",
              "      </script>\n",
              "    </div>\n",
              "  </div>\n",
              "  "
            ]
          },
          "metadata": {},
          "execution_count": 70
        }
      ]
    },
    {
      "cell_type": "code",
      "source": [
        "#to check number of null values in a list\n",
        "data.isna().sum()"
      ],
      "metadata": {
        "colab": {
          "base_uri": "https://localhost:8080/"
        },
        "id": "WvHCD91ukWCC",
        "outputId": "cd78c56c-bf18-4e4a-87a6-993e881a17e6"
      },
      "execution_count": 29,
      "outputs": [
        {
          "output_type": "execute_result",
          "data": {
            "text/plain": [
              "SL                0\n",
              "SW                0\n",
              "PL                0\n",
              "PW                0\n",
              "Classification    0\n",
              "dtype: int64"
            ]
          },
          "metadata": {},
          "execution_count": 29
        }
      ]
    },
    {
      "cell_type": "markdown",
      "source": [
        "# 5. Perform meaningful visualizations using the dataset. Bring at 3 visualizations. "
      ],
      "metadata": {
        "id": "pbU-kAIsknoX"
      }
    },
    {
      "cell_type": "markdown",
      "source": [
        "\n",
        "\n",
        "1.   Box plot\n",
        "2.   Pie Charts\n",
        "3.   Histogram\n",
        "4.   Scatter Plot\n",
        "\n"
      ],
      "metadata": {
        "id": "MJ5ACKhSllOm"
      }
    },
    {
      "cell_type": "code",
      "source": [
        "# 1. Box plot\n",
        "data=pd.read_csv('iris.csv')\n",
        "data.plot.bar()\n",
        "data1=['SL','SW','PL','PW']\n",
        "plt.show()\n"
      ],
      "metadata": {
        "colab": {
          "base_uri": "https://localhost:8080/",
          "height": 274
        },
        "id": "2EQCsgdJl1UN",
        "outputId": "b510d8d6-f986-456f-8a55-092b2df58a43"
      },
      "execution_count": 50,
      "outputs": [
        {
          "output_type": "display_data",
          "data": {
            "text/plain": [
              "<Figure size 432x288 with 1 Axes>"
            ],
            "image/png": "[encoded data removed]"
          },
          "metadata": {
            "needs_background": "light"
          }
        }
      ]
    },
    {
      "cell_type": "code",
      "source": [
        "sns.boxplot(x='SL',y='SW',data=data)"
      ],
      "metadata": {
        "colab": {
          "base_uri": "https://localhost:8080/",
          "height": 299
        },
        "id": "FUicMUW6yFDa",
        "outputId": "72669b8a-173a-4fac-b108-019af0ff1f48"
      },
      "execution_count": 46,
      "outputs": [
        {
          "output_type": "execute_result",
          "data": {
            "text/plain": [
              "<matplotlib.axes._subplots.AxesSubplot at 0x7efe3f3b0750>"
            ]
          },
          "metadata": {},
          "execution_count": 46
        },
        {
          "output_type": "display_data",
          "data": {
            "text/plain": [
              "<Figure size 432x288 with 1 Axes>"
            ],
            "image/png": "[encoded data removed]"
          },
          "metadata": {
            "needs_background": "light"
          }
        }
      ]
    },
    {
      "cell_type": "code",
      "source": [
        "#2.Pie Chart\n",
        "data1=['SL','SW','PL','PW']\n",
        "mean= [5.843333,3.054000,3.758,1.198667]\n",
        "plt.pie(mean,labels=data1)\n",
        "plt.show"
      ],
      "metadata": {
        "colab": {
          "base_uri": "https://localhost:8080/",
          "height": 265
        },
        "id": "zuONlrDKxAUD",
        "outputId": "458c7175-22ef-4bac-bfc3-014f66583437"
      },
      "execution_count": 57,
      "outputs": [
        {
          "output_type": "execute_result",
          "data": {
            "text/plain": [
              "<function matplotlib.pyplot.show(*args, **kw)>"
            ]
          },
          "metadata": {},
          "execution_count": 57
        },
        {
          "output_type": "display_data",
          "data": {
            "text/plain": [
              "<Figure size 432x288 with 1 Axes>"
            ],
            "image/png": "[encoded data removed]"
          },
          "metadata": {}
        }
      ]
    },
    {
      "cell_type": "code",
      "source": [
        "# 3.Histogram\n",
        "data1=['SL','SW','PL','PW']\n",
        "plt.hist(data1)\n",
        "plt.show()\n",
        "\n"
      ],
      "metadata": {
        "colab": {
          "base_uri": "https://localhost:8080/",
          "height": 265
        },
        "id": "sePtI4Th5RR5",
        "outputId": "6b6f76fe-f6b5-4dab-e36d-a65e7e31c1ca"
      },
      "execution_count": 62,
      "outputs": [
        {
          "output_type": "display_data",
          "data": {
            "text/plain": [
              "<Figure size 432x288 with 1 Axes>"
            ],
            "image/png": "[encoded data removed]"
          },
          "metadata": {
            "needs_background": "light"
          }
        }
      ]
    },
    {
      "cell_type": "code",
      "source": [
        "# 4.Scatter Plot\n",
        "data1=['SL','SW','PL','PW']\n",
        "plt.scatter(data['SL'],data['SW'],s=10,marker='^')\n",
        "plt.show()\n"
      ],
      "metadata": {
        "colab": {
          "base_uri": "https://localhost:8080/",
          "height": 268
        },
        "id": "vFkpd6qj6m_2",
        "outputId": "704e9ecb-2875-4265-db57-48d40faea924"
      },
      "execution_count": 67,
      "outputs": [
        {
          "output_type": "display_data",
          "data": {
            "text/plain": [
              "<Figure size 432x288 with 1 Axes>"
            ],
            "image/png": "[encoded data removed]"
          },
          "metadata": {
            "needs_background": "light"
          }
        }
      ]
    }
  ]
}